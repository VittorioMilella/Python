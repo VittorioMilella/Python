{
  "nbformat": 4,
  "nbformat_minor": 0,
  "metadata": {
    "colab": {
      "provenance": [],
      "authorship_tag": "ABX9TyMVwYfVi1iRDHvNCdEL6NCG",
      "include_colab_link": true
    },
    "kernelspec": {
      "name": "python3",
      "display_name": "Python 3"
    },
    "language_info": {
      "name": "python"
    }
  },
  "cells": [
    {
      "cell_type": "markdown",
      "metadata": {
        "id": "view-in-github",
        "colab_type": "text"
      },
      "source": [
        "<a href=\"https://colab.research.google.com/github/VittorioMilella/Python/blob/main/Untitled0.ipynb\" target=\"_parent\"><img src=\"https://colab.research.google.com/assets/colab-badge.svg\" alt=\"Open In Colab\"/></a>"
      ]
    },
    {
      "cell_type": "code",
      "execution_count": null,
      "metadata": {
        "colab": {
          "base_uri": "https://localhost:8080/"
        },
        "id": "ye4uCjR2CFSk",
        "outputId": "a48b8fdc-bf8d-41a8-cd5c-a94e4214edc4"
      },
      "outputs": [
        {
          "output_type": "stream",
          "name": "stdout",
          "text": [
            "Hello world\n"
          ]
        }
      ],
      "source": [
        "print(\"Hello world\")"
      ]
    },
    {
      "cell_type": "code",
      "source": [
        "a=10\n",
        "b=20\n",
        "c=10.5\n",
        "\n",
        "print(a,b,c)"
      ],
      "metadata": {
        "colab": {
          "base_uri": "https://localhost:8080/"
        },
        "id": "ds-S_EvcFdBo",
        "outputId": "8473ddf4-c946-4d77-c175-3135588cbf49"
      },
      "execution_count": null,
      "outputs": [
        {
          "output_type": "stream",
          "name": "stdout",
          "text": [
            "10 20 10.5\n"
          ]
        }
      ]
    },
    {
      "cell_type": "code",
      "source": [
        "somma=a+b\n",
        "sottrazione=a-b\n",
        "moltiplicazione=a*b\n",
        "divisione=a/b\n",
        "print(somma,sottrazione,moltiplicazione,divisione)"
      ],
      "metadata": {
        "colab": {
          "base_uri": "https://localhost:8080/"
        },
        "id": "NlWUmdsnFxYE",
        "outputId": "d12aebca-3170-4d39-ae97-0c1ca38a21ae"
      },
      "execution_count": null,
      "outputs": [
        {
          "output_type": "stream",
          "name": "stdout",
          "text": [
            "30 -10 200 0.5\n"
          ]
        }
      ]
    },
    {
      "cell_type": "code",
      "source": [
        "# inserimento dei dati\n",
        "\n",
        "peso = input(\"Inserisci il tuo peso\")\n",
        "altezza = input(\"Inserisci la tua altezza\")\n",
        "imc = int(peso) / (float(altezza) * float(altezza))\n",
        "\n",
        "print(\"Il tuo indice di massa corporea è\",imc)\n",
        "\n",
        "if imc>25:\n",
        "  status = \"sovrappeso\"\n",
        "elif imc < 18.5:\n",
        "    status=\"sottopeso\"\n",
        "elif imc > 30:\n",
        "  status = \"obesità\"\n",
        "elif imc > 18.5 :\n",
        "  status = \"normapeso\"\n",
        "elif imc < 24.9 :\n",
        "  status = \"normapeso\"  \n",
        "\n",
        "print(\"Sei\",status)    \n",
        "    \n",
        " \n",
        "\n",
        "\n",
        "\n",
        "\n"
      ],
      "metadata": {
        "id": "p4YvMnH-Gfr-",
        "colab": {
          "base_uri": "https://localhost:8080/"
        },
        "outputId": "0cc00d3a-249f-4c25-c54c-383c32178fb7"
      },
      "execution_count": null,
      "outputs": [
        {
          "output_type": "stream",
          "name": "stdout",
          "text": [
            "Inserisci il tuo peso93\n",
            "Inserisci la tua altezza1.79\n",
            "Il tuo indice di massa corporea è 29.025311319871417\n",
            "Sei sovrappeso\n"
          ]
        }
      ]
    },
    {
      "cell_type": "code",
      "source": [
        "# Scrivere un programma che calcoli le ntasse da pagare.\n",
        "# Se il reddito è inferiore a 30000 euro si paga il 15%.\n",
        "# Se il redditto è compreso fra 30000 e 60000 si pga il 20%.\n",
        "# Se il reditto è superiore a 60000 si paga il 30%.\n",
        "\n",
        "reditto = int(input(\"inserisci il tuo reditto:\"))\n",
        "if reditto<30000:\n",
        "  print(\"paghi il 15%\")\n",
        "  elif reditto "
      ],
      "metadata": {
        "id": "IgXfCGLWPGhm"
      },
      "execution_count": null,
      "outputs": []
    },
    {
      "cell_type": "code",
      "source": [
        "# Un negozio vuole incentivare gli acquisti applicando sconti maggiori a chi spende di più,se un cliente spende fino a 100 euro viene fatto uno sconto del 15%.\n",
        "#Se spende da 100 a 200 euro lo sconto è del 20%.\n",
        "#Se spende da 200 a 300 euro lo sconto è del 40%.\n",
        "#se spende più di 600 euro lo sconto è del 60%.\n",
        "#Scrivere un programma che dato il totale di acquisto dei calcoli il prexxo finale che il cliente deve pagare.\n",
        "\n",
        "spesa = int(input(\"inserire quanto si ha speso\"))\n",
        "percentuale = 0\n",
        "if spesa < 100:\n",
        "  percentuale = 15\n",
        "elif spesa > 200 and spesa < 100:\n",
        "  percentuale = 20\n",
        "elif spesa > 200 and spesa < 300:\n",
        "  percentuale = 40\n",
        "elif spesa > 400:\n",
        "  percentuale = 60\n",
        "\n",
        "sconto= (spesa * percentuale) / 100\n",
        "print(\"Hai uno sconto di\",sconto, \"euro\")        "
      ],
      "metadata": {
        "id": "aKB4Th6hQrDA",
        "colab": {
          "base_uri": "https://localhost:8080/"
        },
        "outputId": "2403ae8c-3fe6-45c6-e750-df2f93a9bec4"
      },
      "execution_count": null,
      "outputs": [
        {
          "output_type": "stream",
          "name": "stdout",
          "text": [
            "inserire quanto si ha speso301\n",
            "Hai uno sconto di 0.0 euro\n"
          ]
        }
      ]
    }
  ]
}